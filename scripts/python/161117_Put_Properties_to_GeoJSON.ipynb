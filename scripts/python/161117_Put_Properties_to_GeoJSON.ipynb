{
 "cells": [
  {
   "cell_type": "code",
   "execution_count": 120,
   "metadata": {
    "collapsed": false
   },
   "outputs": [],
   "source": [
    "import pandas as pd\n",
    "import json\n",
    "import numpy\n",
    "import math\n",
    "from pandas.io.json import json_normalize\n",
    "from scipy.spatial.distance import cosine\n",
    "import csv\n",
    "from osgeo import ogr, gdal\n",
    "from shapely.geometry import shape\n",
    "from datetime import datetime\n",
    "from dateutil.parser import parse\n",
    "\n",
    "\n",
    "def df_to_geojson(df, properties):\n",
    "    geojson = {'crs': {'type': 'name', \n",
    "                       'properties': {\"name\": \"urn:ogc:def:crs:OGC:1.3:CRS84\"}}, \n",
    "               'type': 'FeatureCollection', 'features': []}\n",
    "    for _, row in df.iterrows():\n",
    "        feature = {'type': 'Feature', 'properties': {}, \n",
    "                   'geometry': {'type': 'Polygon', 'coordinates': []}}\n",
    "        feature['geometry']['coordinates'] = row['geometry.coordinates']\n",
    "        for prop in properties:\n",
    "#             print(row[prop])\n",
    "            if isinstance(row[prop], str):\n",
    "                feature['properties'][prop] = row[prop]\n",
    "                continue\n",
    "            if math.isnan(row[prop] or row[prop]==None):\n",
    "                feature['properties'][prop] = 0\n",
    "            else:\n",
    "                feature['properties'][prop] = row[prop]\n",
    "        geojson['features'].append(feature)\n",
    "    return geojson"
   ]
  },
  {
   "cell_type": "code",
   "execution_count": 133,
   "metadata": {
    "collapsed": false
   },
   "outputs": [],
   "source": [
    "dates = pd.read_csv(\"sample_dates.csv\")"
   ]
  },
  {
   "cell_type": "code",
   "execution_count": 14,
   "metadata": {
    "collapsed": false
   },
   "outputs": [],
   "source": [
    "file = '../../html/geojson.geojson'\n",
    "with open(file) as f:\n",
    "    grid = pd.read_json(f, typ='Series')"
   ]
  },
  {
   "cell_type": "code",
   "execution_count": 15,
   "metadata": {
    "collapsed": true
   },
   "outputs": [],
   "source": [
    "norm_grid = json_normalize(grid['features'])"
   ]
  },
  {
   "cell_type": "code",
   "execution_count": 109,
   "metadata": {
    "collapsed": false
   },
   "outputs": [],
   "source": [
    "\n",
    "norm_grid[['block','parcel']] = norm_grid[['block','parcel']].astype(str)"
   ]
  },
  {
   "cell_type": "code",
   "execution_count": 110,
   "metadata": {
    "collapsed": false
   },
   "outputs": [
    {
     "data": {
      "text/html": [
       "<div>\n",
       "<table border=\"1\" class=\"dataframe\">\n",
       "  <thead>\n",
       "    <tr style=\"text-align: right;\">\n",
       "      <th></th>\n",
       "      <th>geometry.coordinates</th>\n",
       "      <th>geometry.type</th>\n",
       "      <th>block</th>\n",
       "      <th>id</th>\n",
       "      <th>parcel</th>\n",
       "      <th>st_name</th>\n",
       "      <th>st_num</th>\n",
       "      <th>year</th>\n",
       "      <th>type</th>\n",
       "    </tr>\n",
       "  </thead>\n",
       "  <tbody>\n",
       "    <tr>\n",
       "      <th>0</th>\n",
       "      <td>[[[-82.55622475205546, 35.585252470595705], [-...</td>\n",
       "      <td>Polygon</td>\n",
       "      <td>2</td>\n",
       "      <td>0</td>\n",
       "      <td>2</td>\n",
       "      <td>Southside Ave.</td>\n",
       "      <td>143</td>\n",
       "      <td>1960</td>\n",
       "      <td>Feature</td>\n",
       "    </tr>\n",
       "    <tr>\n",
       "      <th>1</th>\n",
       "      <td>[[[-82.55487708431265, 35.586432936307375], [-...</td>\n",
       "      <td>Polygon</td>\n",
       "      <td>1</td>\n",
       "      <td>2</td>\n",
       "      <td>51</td>\n",
       "      <td>Coxe Ave.</td>\n",
       "      <td>231</td>\n",
       "      <td>1960</td>\n",
       "      <td>Feature</td>\n",
       "    </tr>\n",
       "    <tr>\n",
       "      <th>2</th>\n",
       "      <td>[[[-82.55463127500992, 35.58629677662686], [-8...</td>\n",
       "      <td>Polygon</td>\n",
       "      <td>1</td>\n",
       "      <td>3</td>\n",
       "      <td>50</td>\n",
       "      <td>Southside Ave.</td>\n",
       "      <td>89</td>\n",
       "      <td>1960</td>\n",
       "      <td>Feature</td>\n",
       "    </tr>\n",
       "    <tr>\n",
       "      <th>3</th>\n",
       "      <td>[[[-82.55481165103288, 35.586065196763], [-82....</td>\n",
       "      <td>Polygon</td>\n",
       "      <td>1</td>\n",
       "      <td>4</td>\n",
       "      <td>49</td>\n",
       "      <td>Southside Ave.</td>\n",
       "      <td>101</td>\n",
       "      <td>1960</td>\n",
       "      <td>Feature</td>\n",
       "    </tr>\n",
       "    <tr>\n",
       "      <th>4</th>\n",
       "      <td>[[[-82.55485990777329, 35.586006351274705], [-...</td>\n",
       "      <td>Polygon</td>\n",
       "      <td>1</td>\n",
       "      <td>5</td>\n",
       "      <td>48</td>\n",
       "      <td>Southside Ave.</td>\n",
       "      <td>103</td>\n",
       "      <td>1960</td>\n",
       "      <td>Feature</td>\n",
       "    </tr>\n",
       "  </tbody>\n",
       "</table>\n",
       "</div>"
      ],
      "text/plain": [
       "                                geometry.coordinates geometry.type block  id  \\\n",
       "0  [[[-82.55622475205546, 35.585252470595705], [-...       Polygon     2   0   \n",
       "1  [[[-82.55487708431265, 35.586432936307375], [-...       Polygon     1   2   \n",
       "2  [[[-82.55463127500992, 35.58629677662686], [-8...       Polygon     1   3   \n",
       "3  [[[-82.55481165103288, 35.586065196763], [-82....       Polygon     1   4   \n",
       "4  [[[-82.55485990777329, 35.586006351274705], [-...       Polygon     1   5   \n",
       "\n",
       "  parcel         st_name st_num  year     type  \n",
       "0      2  Southside Ave.    143  1960  Feature  \n",
       "1     51       Coxe Ave.    231  1960  Feature  \n",
       "2     50  Southside Ave.     89  1960  Feature  \n",
       "3     49  Southside Ave.    101  1960  Feature  \n",
       "4     48  Southside Ave.    103  1960  Feature  "
      ]
     },
     "execution_count": 110,
     "metadata": {},
     "output_type": "execute_result"
    }
   ],
   "source": [
    "norm_grid.head()"
   ]
  },
  {
   "cell_type": "code",
   "execution_count": 54,
   "metadata": {
    "collapsed": true
   },
   "outputs": [],
   "source": [
    "norm_grid.columns = ['geometry.coordinates','geometry.type','block','id','parcel','st_name','st_num','year','type']"
   ]
  },
  {
   "cell_type": "code",
   "execution_count": 137,
   "metadata": {
    "collapsed": false
   },
   "outputs": [
    {
     "data": {
      "text/html": [
       "<div>\n",
       "<table border=\"1\" class=\"dataframe\">\n",
       "  <thead>\n",
       "    <tr style=\"text-align: right;\">\n",
       "      <th></th>\n",
       "      <th>block</th>\n",
       "      <th>parcel</th>\n",
       "      <th>final_price</th>\n",
       "      <th>Prelimiry Title Search</th>\n",
       "      <th>offer_made</th>\n",
       "      <th>offer_accepted</th>\n",
       "      <th>Closed</th>\n",
       "      <th>rejected</th>\n",
       "      <th>Approved for Condemnation</th>\n",
       "      <th>Assigned to Attorney</th>\n",
       "      <th>Petition Filed</th>\n",
       "      <th>Commissioners Hearing</th>\n",
       "      <th>Order Vesting Title</th>\n",
       "      <th>final_title</th>\n",
       "      <th>Assigned to Relocation</th>\n",
       "      <th>Vacated</th>\n",
       "      <th>Assigned for Demolition</th>\n",
       "      <th>removed</th>\n",
       "    </tr>\n",
       "  </thead>\n",
       "  <tbody>\n",
       "    <tr>\n",
       "      <th>0</th>\n",
       "      <td>1</td>\n",
       "      <td>2</td>\n",
       "      <td>8500.0</td>\n",
       "      <td>4/24/69</td>\n",
       "      <td>1969.0</td>\n",
       "      <td>1969.0</td>\n",
       "      <td>6/6/69</td>\n",
       "      <td>NaN</td>\n",
       "      <td>NaN</td>\n",
       "      <td>NaN</td>\n",
       "      <td>NaN</td>\n",
       "      <td>NaN</td>\n",
       "      <td>6/4/69</td>\n",
       "      <td>1969.0</td>\n",
       "      <td>NaN</td>\n",
       "      <td>NaN</td>\n",
       "      <td>NaN</td>\n",
       "      <td>NaN</td>\n",
       "    </tr>\n",
       "    <tr>\n",
       "      <th>1</th>\n",
       "      <td>1</td>\n",
       "      <td>3</td>\n",
       "      <td>15000.0</td>\n",
       "      <td>NaN</td>\n",
       "      <td>1969.0</td>\n",
       "      <td>1969.0</td>\n",
       "      <td>NaN</td>\n",
       "      <td>NaN</td>\n",
       "      <td>12/13/70</td>\n",
       "      <td>NaN</td>\n",
       "      <td>7/15/71</td>\n",
       "      <td>6/9/71</td>\n",
       "      <td>6/16/71</td>\n",
       "      <td>1971.0</td>\n",
       "      <td>7/15/71</td>\n",
       "      <td>10/8/71</td>\n",
       "      <td>NaN</td>\n",
       "      <td>NaN</td>\n",
       "    </tr>\n",
       "    <tr>\n",
       "      <th>2</th>\n",
       "      <td>1</td>\n",
       "      <td>4</td>\n",
       "      <td>35500.0</td>\n",
       "      <td>11/6/69</td>\n",
       "      <td>1970.0</td>\n",
       "      <td>NaN</td>\n",
       "      <td>7/13/72</td>\n",
       "      <td>NaN</td>\n",
       "      <td>11/9/71</td>\n",
       "      <td>NaN</td>\n",
       "      <td>8/22/72</td>\n",
       "      <td>6/28/72</td>\n",
       "      <td>7/12/72</td>\n",
       "      <td>1972.0</td>\n",
       "      <td>7/13/72</td>\n",
       "      <td>NaN</td>\n",
       "      <td>NaN</td>\n",
       "      <td>NaN</td>\n",
       "    </tr>\n",
       "    <tr>\n",
       "      <th>3</th>\n",
       "      <td>1</td>\n",
       "      <td>5</td>\n",
       "      <td>8000.0</td>\n",
       "      <td>10/30/69</td>\n",
       "      <td>1969.0</td>\n",
       "      <td>1974.0</td>\n",
       "      <td>NaN</td>\n",
       "      <td>NaN</td>\n",
       "      <td>NaN</td>\n",
       "      <td>5/8/74</td>\n",
       "      <td>NaN</td>\n",
       "      <td>NaN</td>\n",
       "      <td>5/15/74</td>\n",
       "      <td>1974.0</td>\n",
       "      <td>5/29/74</td>\n",
       "      <td>NaN</td>\n",
       "      <td>NaN</td>\n",
       "      <td>NaN</td>\n",
       "    </tr>\n",
       "    <tr>\n",
       "      <th>4</th>\n",
       "      <td>1</td>\n",
       "      <td>6</td>\n",
       "      <td>40000.0</td>\n",
       "      <td>6/6/74</td>\n",
       "      <td>NaN</td>\n",
       "      <td>NaN</td>\n",
       "      <td>NaN</td>\n",
       "      <td>NaN</td>\n",
       "      <td>NaN</td>\n",
       "      <td>9/24/74</td>\n",
       "      <td>NaN</td>\n",
       "      <td>NaN</td>\n",
       "      <td>10/8/74</td>\n",
       "      <td>1974.0</td>\n",
       "      <td>10/14/74</td>\n",
       "      <td>NaN</td>\n",
       "      <td>NaN</td>\n",
       "      <td>NaN</td>\n",
       "    </tr>\n",
       "  </tbody>\n",
       "</table>\n",
       "</div>"
      ],
      "text/plain": [
       "  block parcel  final_price Prelimiry Title Search  offer_made  \\\n",
       "0     1      2       8500.0                4/24/69      1969.0   \n",
       "1     1      3      15000.0                    NaN      1969.0   \n",
       "2     1      4      35500.0                11/6/69      1970.0   \n",
       "3     1      5       8000.0               10/30/69      1969.0   \n",
       "4     1      6      40000.0                 6/6/74         NaN   \n",
       "\n",
       "   offer_accepted   Closed  rejected Approved for Condemnation  \\\n",
       "0          1969.0   6/6/69       NaN                       NaN   \n",
       "1          1969.0      NaN       NaN                  12/13/70   \n",
       "2             NaN  7/13/72       NaN                   11/9/71   \n",
       "3          1974.0      NaN       NaN                       NaN   \n",
       "4             NaN      NaN       NaN                       NaN   \n",
       "\n",
       "  Assigned to Attorney Petition Filed Commissioners Hearing  \\\n",
       "0                  NaN            NaN                   NaN   \n",
       "1                  NaN        7/15/71                6/9/71   \n",
       "2                  NaN        8/22/72               6/28/72   \n",
       "3               5/8/74            NaN                   NaN   \n",
       "4              9/24/74            NaN                   NaN   \n",
       "\n",
       "  Order Vesting Title  final_title Assigned to Relocation  Vacated  \\\n",
       "0              6/4/69       1969.0                    NaN      NaN   \n",
       "1             6/16/71       1971.0                7/15/71  10/8/71   \n",
       "2             7/12/72       1972.0                7/13/72      NaN   \n",
       "3             5/15/74       1974.0                5/29/74      NaN   \n",
       "4             10/8/74       1974.0               10/14/74      NaN   \n",
       "\n",
       "  Assigned for Demolition  removed  \n",
       "0                     NaN      NaN  \n",
       "1                     NaN      NaN  \n",
       "2                     NaN      NaN  \n",
       "3                     NaN      NaN  \n",
       "4                     NaN      NaN  "
      ]
     },
     "execution_count": 137,
     "metadata": {},
     "output_type": "execute_result"
    }
   ],
   "source": [
    "dates[['block','parcel']] = dates[['block','parcel']].astype(str)\n",
    "dates.head()"
   ]
  },
  {
   "cell_type": "code",
   "execution_count": 135,
   "metadata": {
    "collapsed": false
   },
   "outputs": [],
   "source": [
    "dates.offer_made = pd.to_datetime(pd.Series(dates.offer_made))\n",
    "dates.offer_accepted = pd.to_datetime(pd.Series(dates.offer_accepted))\n",
    "dates.rejected = pd.to_datetime(pd.Series(dates.rejected))\n",
    "dates.final_title = pd.to_datetime(pd.Series(dates.final_title))\n",
    "dates.removed = pd.to_datetime(pd.Series(dates.removed))"
   ]
  },
  {
   "cell_type": "code",
   "execution_count": 136,
   "metadata": {
    "collapsed": true
   },
   "outputs": [],
   "source": [
    "dates.offer_made = dates.offer_made.map(lambda x: x.year)\n",
    "dates.offer_accepted = dates.offer_accepted.map(lambda x: x.year)\n",
    "dates.rejected = dates.rejected.map(lambda x: x.year)\n",
    "dates.final_title = dates.final_title.map(lambda x: x.year)\n",
    "dates.removed = dates.removed.map(lambda x: x.year)"
   ]
  },
  {
   "cell_type": "code",
   "execution_count": 138,
   "metadata": {
    "collapsed": false
   },
   "outputs": [],
   "source": [
    "with_dates = pd.merge(left=norm_grid, right=dates, how='left', on=['block','parcel'])"
   ]
  },
  {
   "cell_type": "code",
   "execution_count": 139,
   "metadata": {
    "collapsed": false
   },
   "outputs": [
    {
     "data": {
      "text/html": [
       "<div>\n",
       "<table border=\"1\" class=\"dataframe\">\n",
       "  <thead>\n",
       "    <tr style=\"text-align: right;\">\n",
       "      <th></th>\n",
       "      <th>geometry.coordinates</th>\n",
       "      <th>geometry.type</th>\n",
       "      <th>block</th>\n",
       "      <th>id</th>\n",
       "      <th>parcel</th>\n",
       "      <th>st_name</th>\n",
       "      <th>st_num</th>\n",
       "      <th>year</th>\n",
       "      <th>type</th>\n",
       "      <th>final_price</th>\n",
       "      <th>...</th>\n",
       "      <th>Approved for Condemnation</th>\n",
       "      <th>Assigned to Attorney</th>\n",
       "      <th>Petition Filed</th>\n",
       "      <th>Commissioners Hearing</th>\n",
       "      <th>Order Vesting Title</th>\n",
       "      <th>final_title</th>\n",
       "      <th>Assigned to Relocation</th>\n",
       "      <th>Vacated</th>\n",
       "      <th>Assigned for Demolition</th>\n",
       "      <th>removed</th>\n",
       "    </tr>\n",
       "  </thead>\n",
       "  <tbody>\n",
       "    <tr>\n",
       "      <th>0</th>\n",
       "      <td>[[[-82.55622475205546, 35.585252470595705], [-...</td>\n",
       "      <td>Polygon</td>\n",
       "      <td>2</td>\n",
       "      <td>0</td>\n",
       "      <td>2</td>\n",
       "      <td>Southside Ave.</td>\n",
       "      <td>143</td>\n",
       "      <td>1960</td>\n",
       "      <td>Feature</td>\n",
       "      <td>48150.0</td>\n",
       "      <td>...</td>\n",
       "      <td>NaN</td>\n",
       "      <td>NaN</td>\n",
       "      <td>NaN</td>\n",
       "      <td>NaN</td>\n",
       "      <td>3/29/76</td>\n",
       "      <td>1976.0</td>\n",
       "      <td>4/5/76</td>\n",
       "      <td>NaN</td>\n",
       "      <td>NaN</td>\n",
       "      <td>NaN</td>\n",
       "    </tr>\n",
       "    <tr>\n",
       "      <th>1</th>\n",
       "      <td>[[[-82.55487708431265, 35.586432936307375], [-...</td>\n",
       "      <td>Polygon</td>\n",
       "      <td>1</td>\n",
       "      <td>2</td>\n",
       "      <td>51</td>\n",
       "      <td>Coxe Ave.</td>\n",
       "      <td>231</td>\n",
       "      <td>1960</td>\n",
       "      <td>Feature</td>\n",
       "      <td>11000.0</td>\n",
       "      <td>...</td>\n",
       "      <td>NaN</td>\n",
       "      <td>NaN</td>\n",
       "      <td>NaN</td>\n",
       "      <td>NaN</td>\n",
       "      <td>12/23/71</td>\n",
       "      <td>1971.0</td>\n",
       "      <td>12/23/71</td>\n",
       "      <td>NaN</td>\n",
       "      <td>6/29/72</td>\n",
       "      <td>1972.0</td>\n",
       "    </tr>\n",
       "    <tr>\n",
       "      <th>2</th>\n",
       "      <td>[[[-82.55463127500992, 35.58629677662686], [-8...</td>\n",
       "      <td>Polygon</td>\n",
       "      <td>1</td>\n",
       "      <td>3</td>\n",
       "      <td>50</td>\n",
       "      <td>Southside Ave.</td>\n",
       "      <td>89</td>\n",
       "      <td>1960</td>\n",
       "      <td>Feature</td>\n",
       "      <td>17000.0</td>\n",
       "      <td>...</td>\n",
       "      <td>NaN</td>\n",
       "      <td>NaN</td>\n",
       "      <td>NaN</td>\n",
       "      <td>NaN</td>\n",
       "      <td>12/31/69</td>\n",
       "      <td>1969.0</td>\n",
       "      <td>12/31/69</td>\n",
       "      <td>NaN</td>\n",
       "      <td>6/29/72</td>\n",
       "      <td>1972.0</td>\n",
       "    </tr>\n",
       "    <tr>\n",
       "      <th>3</th>\n",
       "      <td>[[[-82.55481165103288, 35.586065196763], [-82....</td>\n",
       "      <td>Polygon</td>\n",
       "      <td>1</td>\n",
       "      <td>4</td>\n",
       "      <td>49</td>\n",
       "      <td>Southside Ave.</td>\n",
       "      <td>101</td>\n",
       "      <td>1960</td>\n",
       "      <td>Feature</td>\n",
       "      <td>5700.0</td>\n",
       "      <td>...</td>\n",
       "      <td>NaN</td>\n",
       "      <td>NaN</td>\n",
       "      <td>NaN</td>\n",
       "      <td>NaN</td>\n",
       "      <td>6/12/69</td>\n",
       "      <td>1969.0</td>\n",
       "      <td>6/12/69</td>\n",
       "      <td>8/4/70</td>\n",
       "      <td>8/12/70</td>\n",
       "      <td>1970.0</td>\n",
       "    </tr>\n",
       "    <tr>\n",
       "      <th>4</th>\n",
       "      <td>[[[-82.55485990777329, 35.586006351274705], [-...</td>\n",
       "      <td>Polygon</td>\n",
       "      <td>1</td>\n",
       "      <td>5</td>\n",
       "      <td>48</td>\n",
       "      <td>Southside Ave.</td>\n",
       "      <td>103</td>\n",
       "      <td>1960</td>\n",
       "      <td>Feature</td>\n",
       "      <td>5000.0</td>\n",
       "      <td>...</td>\n",
       "      <td>10/12/70</td>\n",
       "      <td>12/6/71</td>\n",
       "      <td>NaN</td>\n",
       "      <td>NaN</td>\n",
       "      <td>5/27/75</td>\n",
       "      <td>1975.0</td>\n",
       "      <td>5/29/75</td>\n",
       "      <td>NaN</td>\n",
       "      <td>NaN</td>\n",
       "      <td>NaN</td>\n",
       "    </tr>\n",
       "  </tbody>\n",
       "</table>\n",
       "<p>5 rows × 25 columns</p>\n",
       "</div>"
      ],
      "text/plain": [
       "                                geometry.coordinates geometry.type block  id  \\\n",
       "0  [[[-82.55622475205546, 35.585252470595705], [-...       Polygon     2   0   \n",
       "1  [[[-82.55487708431265, 35.586432936307375], [-...       Polygon     1   2   \n",
       "2  [[[-82.55463127500992, 35.58629677662686], [-8...       Polygon     1   3   \n",
       "3  [[[-82.55481165103288, 35.586065196763], [-82....       Polygon     1   4   \n",
       "4  [[[-82.55485990777329, 35.586006351274705], [-...       Polygon     1   5   \n",
       "\n",
       "  parcel         st_name st_num  year     type  final_price   ...    \\\n",
       "0      2  Southside Ave.    143  1960  Feature      48150.0   ...     \n",
       "1     51       Coxe Ave.    231  1960  Feature      11000.0   ...     \n",
       "2     50  Southside Ave.     89  1960  Feature      17000.0   ...     \n",
       "3     49  Southside Ave.    101  1960  Feature       5700.0   ...     \n",
       "4     48  Southside Ave.    103  1960  Feature       5000.0   ...     \n",
       "\n",
       "  Approved for Condemnation  Assigned to Attorney  Petition Filed  \\\n",
       "0                       NaN                   NaN             NaN   \n",
       "1                       NaN                   NaN             NaN   \n",
       "2                       NaN                   NaN             NaN   \n",
       "3                       NaN                   NaN             NaN   \n",
       "4                  10/12/70               12/6/71             NaN   \n",
       "\n",
       "  Commissioners Hearing  Order Vesting Title final_title  \\\n",
       "0                   NaN              3/29/76      1976.0   \n",
       "1                   NaN             12/23/71      1971.0   \n",
       "2                   NaN             12/31/69      1969.0   \n",
       "3                   NaN              6/12/69      1969.0   \n",
       "4                   NaN              5/27/75      1975.0   \n",
       "\n",
       "  Assigned to Relocation Vacated Assigned for Demolition removed  \n",
       "0                 4/5/76     NaN                     NaN     NaN  \n",
       "1               12/23/71     NaN                 6/29/72  1972.0  \n",
       "2               12/31/69     NaN                 6/29/72  1972.0  \n",
       "3                6/12/69  8/4/70                 8/12/70  1970.0  \n",
       "4                5/29/75     NaN                     NaN     NaN  \n",
       "\n",
       "[5 rows x 25 columns]"
      ]
     },
     "execution_count": 139,
     "metadata": {},
     "output_type": "execute_result"
    }
   ],
   "source": [
    "with_dates.head()"
   ]
  },
  {
   "cell_type": "code",
   "execution_count": 85,
   "metadata": {
    "collapsed": false
   },
   "outputs": [],
   "source": [
    "# with_dates['id'] = with_dates['properties.id']\n"
   ]
  },
  {
   "cell_type": "code",
   "execution_count": 140,
   "metadata": {
    "collapsed": false
   },
   "outputs": [],
   "source": [
    "cols = ['id','block','parcel','st_num','st_name','final_price','offer_made','offer_accepted','rejected','final_title','removed']\n",
    "geojson = df_to_geojson(with_dates, cols)"
   ]
  },
  {
   "cell_type": "code",
   "execution_count": 141,
   "metadata": {
    "collapsed": false
   },
   "outputs": [
    {
     "name": "stdout",
     "output_type": "stream",
     "text": [
      "file generated.\n"
     ]
    }
   ],
   "source": [
    "output_filename = 'with_date.geojson'\n",
    "with open(output_filename, 'w') as output_file:\n",
    "   json.dump(geojson, output_file, indent=2)\n",
    "\n",
    "print (\"file generated.\")"
   ]
  },
  {
   "cell_type": "code",
   "execution_count": null,
   "metadata": {
    "collapsed": false
   },
   "outputs": [],
   "source": []
  },
  {
   "cell_type": "code",
   "execution_count": 106,
   "metadata": {
    "collapsed": false
   },
   "outputs": [
    {
     "data": {
      "text/plain": [
       "pandas.core.frame.DataFrame"
      ]
     },
     "execution_count": 106,
     "metadata": {},
     "output_type": "execute_result"
    }
   ],
   "source": [
    "type(norm_grid[['parcel']])"
   ]
  },
  {
   "cell_type": "code",
   "execution_count": null,
   "metadata": {
    "collapsed": true
   },
   "outputs": [],
   "source": []
  }
 ],
 "metadata": {
  "kernelspec": {
   "display_name": "Python 3",
   "language": "python",
   "name": "python3"
  },
  "language_info": {
   "codemirror_mode": {
    "name": "ipython",
    "version": 3
   },
   "file_extension": ".py",
   "mimetype": "text/x-python",
   "name": "python",
   "nbconvert_exporter": "python",
   "pygments_lexer": "ipython3",
   "version": "3.5.1"
  }
 },
 "nbformat": 4,
 "nbformat_minor": 0
}
